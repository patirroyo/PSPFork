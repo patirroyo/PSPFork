{
  "cells": [
    {
      "cell_type": "code",
      "execution_count": 9,
      "metadata": {},
      "outputs": [],
      "source": [
        "# -*- coding: utf-8 -*-\n",
        "\"\"\"\n",
        "An example url status checker implementation that checks 1 URL per thread.\n",
        "\"\"\"\n",
        "\n",
        "import threading\n",
        "import requests\n"
      ]
    },
    {
      "cell_type": "code",
      "execution_count": 10,
      "metadata": {},
      "outputs": [],
      "source": [
        "\n",
        "class StatusChecker(threading.Thread):\n",
        "    \"\"\"\n",
        "    The thread that will check HTTP statuses.\n",
        "    \"\"\"\n",
        "\n",
        "    #: The url this thread will check\n",
        "    to_check = None\n",
        "\n",
        "    #: The status code of the check url\n",
        "    status_code = None\n",
        "\n",
        "    def __init__(self, to_check):\n",
        "        super().__init__()\n",
        "        self.to_check = to_check\n",
        "\n",
        "    def run(self):\n",
        "        resp = requests.get(self.to_check)\n",
        "        self.status_code = resp.status_code\n",
        "\n"
      ]
    },
    {
      "cell_type": "code",
      "execution_count": 11,
      "metadata": {},
      "outputs": [
        {
          "name": "stdout",
          "output_type": "stream",
          "text": [
            "Starting check for http://httpbin.org/status/418\n",
            "Starting check for http://httpbin.org/status/200\n",
            "Starting check for http://httpbin.org/status/404\n",
            "Starting check for http://httpbin.org/status/500\n",
            "http://httpbin.org/status/418 - 418\n",
            "http://httpbin.org/status/200 - 200\n",
            "http://httpbin.org/status/404 - 404\n",
            "http://httpbin.org/status/500 - 500\n"
          ]
        }
      ],
      "source": [
        "\n",
        "if __name__ == '__main__':\n",
        "    urls = (\n",
        "        'http://httpbin.org/status/418',\n",
        "        'http://httpbin.org/status/200',\n",
        "        'http://httpbin.org/status/404',\n",
        "        'http://httpbin.org/status/500',\n",
        "    )\n",
        "\n",
        "    threads = dict()\n",
        "    for url in urls:\n",
        "        threads[url] = StatusChecker(url)\n",
        "        print('Starting check for {}'.format(url))\n",
        "        threads[url].start()\n",
        "\n",
        "    for _, thread in threads.items():\n",
        "        thread.join()\n",
        "\n",
        "    for url in urls:\n",
        "        print('{} - {}'.format(url, threads[url].status_code))\n"
      ]
    }
  ],
  "metadata": {
    "anaconda-cloud": {},
    "kernelspec": {
      "display_name": "Python 3",
      "language": "python",
      "name": "python3"
    },
    "language_info": {
      "codemirror_mode": {
        "name": "ipython",
        "version": 3
      },
      "file_extension": ".py",
      "mimetype": "text/x-python",
      "name": "python",
      "nbconvert_exporter": "python",
      "pygments_lexer": "ipython3",
      "version": "3.11.6"
    }
  },
  "nbformat": 4,
  "nbformat_minor": 4
}

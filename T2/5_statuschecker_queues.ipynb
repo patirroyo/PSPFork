{
  "cells": [
    {
      "cell_type": "code",
      "execution_count": 7,
      "metadata": {},
      "outputs": [],
      "source": [
        "# -*- coding: utf-8 -*-\n",
        "\"\"\"\n",
        "An example url status checker implementation consumes urls from a queue.\n",
        "\"\"\"\n",
        "\n",
        "import threading\n",
        "import queue\n",
        "import requests\n"
      ]
    },
    {
      "cell_type": "code",
      "execution_count": 8,
      "metadata": {},
      "outputs": [],
      "source": [
        "\n",
        "class StatusChecker(threading.Thread):\n",
        "    \"\"\"\n",
        "    The thread that will check HTTP statuses.\n",
        "    \"\"\"\n",
        "\n",
        "    #: The queue of urls\n",
        "    url_queue = None\n",
        "\n",
        "    #: The queue our results will go into\n",
        "    result_queue = None\n",
        "\n",
        "    def __init__(self, url_queue, result_queue):\n",
        "        super().__init__()\n",
        "        self.url_queue = url_queue\n",
        "        self.result_queue = result_queue\n",
        "\n",
        "    def run(self):\n",
        "        while True:\n",
        "            try:\n",
        "                # this will throw queue.Empty immediately if there's\n",
        "                # no tasks left\n",
        "                to_check = self.url_queue.get_nowait()\n",
        "            except queue.Empty:\n",
        "                break # empty queue, we're done!\n",
        "            else:\n",
        "                resp = requests.get(to_check)\n",
        "                self.result_queue.put((to_check, resp.status_code,))\n",
        "                self.url_queue.task_done() # the the queue we're done\n",
        "\n"
      ]
    },
    {
      "cell_type": "code",
      "execution_count": 9,
      "metadata": {},
      "outputs": [
        {
          "name": "stdout",
          "output_type": "stream",
          "text": [
            "Starting worker 0\n",
            "Starting worker 1\n",
            "http://httpbin.org/status/418 - 418\n",
            "http://httpbin.org/status/200 - 200\n",
            "http://httpbin.org/status/404 - 404\n",
            "http://httpbin.org/status/500 - 500\n"
          ]
        }
      ],
      "source": [
        "\n",
        "if __name__ == '__main__':\n",
        "    urls = (\n",
        "        'http://httpbin.org/status/418',\n",
        "        'http://httpbin.org/status/200',\n",
        "        'http://httpbin.org/status/404',\n",
        "        'http://httpbin.org/status/500',\n",
        "    )\n",
        "\n",
        "    url_queue = queue.Queue()\n",
        "    for url in urls:\n",
        "        url_queue.put(url)\n",
        "\n",
        "    result_queue = queue.Queue()\n",
        "    num_workers = 2\n",
        "    for i in range(num_workers):\n",
        "        t = StatusChecker(url_queue, result_queue)\n",
        "        print('Starting worker {}'.format(i))\n",
        "        t.start()\n",
        "\n",
        "    # wait for the queue to empty\n",
        "    url_queue.join()\n",
        "\n",
        "    while not result_queue.empty():\n",
        "        url, status = result_queue.get_nowait()\n",
        "        print('{} - {}'.format(url, status))\n"
      ]
    }
  ],
  "metadata": {
    "anaconda-cloud": {},
    "kernelspec": {
      "display_name": "Python 3",
      "language": "python",
      "name": "python3"
    },
    "language_info": {
      "codemirror_mode": {
        "name": "ipython",
        "version": 3
      },
      "file_extension": ".py",
      "mimetype": "text/x-python",
      "name": "python",
      "nbconvert_exporter": "python",
      "pygments_lexer": "ipython3",
      "version": "3.11.6"
    }
  },
  "nbformat": 4,
  "nbformat_minor": 4
}

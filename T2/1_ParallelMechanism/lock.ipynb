{
  "cells": [
    {
      "cell_type": "code",
      "execution_count": 3,
      "metadata": {},
      "outputs": [],
      "source": [
        "import time\n",
        "import urllib\n",
        "import threading\n"
      ]
    },
    {
      "cell_type": "code",
      "execution_count": 5,
      "metadata": {},
      "outputs": [],
      "source": [
        "\n",
        "class FetchUrls(threading.Thread):\n",
        "    \"\"\"\n",
        "    Thread checking URLs.\n",
        "    \"\"\"\n",
        "\n",
        "    def __init__(self, urls, output, lock):\n",
        "        \"\"\"\n",
        "        Constructor.\n",
        "\n",
        "        @param urls list of urls to check\n",
        "        @param output file to write urls output\n",
        "        \"\"\"\n",
        "        threading.Thread.__init__(self)\n",
        "        self.urls = urls\n",
        "        self.output = output\n",
        "        self.lock = lock\n",
        "    \n",
        "    def run(self):\n",
        "        \"\"\"\n",
        "        Thread run method. Check URLs one by one.\n",
        "        \"\"\"\n",
        "        while self.urls:\n",
        "            url = self.urls.pop()\n",
        "            req = urllib.request\n",
        "            try:\n",
        "                d = req.urlopen(url)\n",
        "            except urllib.error.URLError as e:\n",
        "                print (\"URL %s failed: %s\" % (url, e.reason))\n",
        "\n",
        "            self.lock.acquire() # agarro el boli\n",
        "\n",
        "            print ('lock acquired by %s' % self.name)\n",
        "            self.output.write(str(d.read())) # escribo en el fichero\n",
        "            print ('write done by %s' % self.name)\n",
        "            print ('lock released by %s' % self.name)\n",
        "\n",
        "            self.lock.release() # suelto el boli\n",
        "\n",
        "            print ('URL %s fetched by %s' % (url, self.name))\n"
      ]
    },
    {
      "cell_type": "code",
      "execution_count": 6,
      "metadata": {},
      "outputs": [],
      "source": [
        "\n",
        "def main():\n",
        "    # list 1 of urls to fetch\n",
        "    urls1 = ['http://www.google.com', 'http://www.facebook.com']\n",
        "    # list 2 of urls to fetch\n",
        "    urls2 = ['http://www.yahoo.com', 'http://www.youtube.com']\n",
        "    lock = threading.Lock() # creo el boli\n",
        "    f = open('output.txt', 'w+')\n",
        "    t1 = FetchUrls(urls1, f, lock) # paso el boli como parámetro\n",
        "    t2 = FetchUrls(urls2, f, lock) # paso el boli como parámetro\n",
        "    t1.start()\n",
        "    t2.start()\n",
        "    t1.join()\n",
        "    t2.join()\n",
        "    f.close()\n"
      ]
    },
    {
      "cell_type": "code",
      "execution_count": 7,
      "metadata": {},
      "outputs": [
        {
          "name": "stdout",
          "output_type": "stream",
          "text": [
            "lock acquired by Thread-4\n",
            "write done by Thread-4\n",
            "lock released by Thread-4\n",
            "URL http://www.facebook.com fetched by Thread-4\n"
          ]
        }
      ],
      "source": [
        "\n",
        "if __name__ == '__main__':\n",
        "    main()\n",
        " \n"
      ]
    }
  ],
  "metadata": {
    "anaconda-cloud": {},
    "kernelspec": {
      "display_name": "Python 3.10.4 64-bit",
      "language": "python",
      "name": "python3"
    },
    "language_info": {
      "codemirror_mode": {
        "name": "ipython",
        "version": 3
      },
      "file_extension": ".py",
      "mimetype": "text/x-python",
      "name": "python",
      "nbconvert_exporter": "python",
      "pygments_lexer": "ipython3",
      "version": "3.10.12"
    },
    "vscode": {
      "interpreter": {
        "hash": "3ad933181bd8a04b432d3370b9dc3b0662ad032c4dfaa4e4f1596c548f763858"
      }
    }
  },
  "nbformat": 4,
  "nbformat_minor": 4
}

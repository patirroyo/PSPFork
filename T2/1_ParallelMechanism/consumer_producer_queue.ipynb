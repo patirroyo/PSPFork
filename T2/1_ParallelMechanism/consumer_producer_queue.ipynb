{
  "cells": [
    {
      "cell_type": "code",
      "execution_count": null,
      "metadata": {},
      "outputs": [],
      "source": [
        "import time\n",
        "import threading\n",
        "import random\n",
        "import queue as Queue\n"
      ]
    },
    {
      "cell_type": "code",
      "execution_count": null,
      "metadata": {},
      "outputs": [],
      "source": [
        "\n",
        "class Producer(threading.Thread):\n",
        "    \"\"\"\n",
        "    Produces random integers to a list\n",
        "    \"\"\"\n",
        "\n",
        "    def __init__(self, queue):\n",
        "        \"\"\"\n",
        "        Constructor.\n",
        "\n",
        "        @param integers list of integers\n",
        "        @param queue queue synchronization object\n",
        "        \"\"\"\n",
        "        threading.Thread.__init__(self)\n",
        "        self.queue = queue\n",
        "    \n",
        "    def run(self):\n",
        "        \"\"\"\n",
        "        Thread run method. Append random integers to the integers\n",
        "        list at random time.\n",
        "        \"\"\"\n",
        "        while True:\n",
        "            integer = random.randint(0, 256)\n",
        "            self.queue.put(integer) \n",
        "            print ('%d put to queue by %s' % (integer, self.name))\n",
        "            time.sleep(1)\n"
      ]
    },
    {
      "cell_type": "code",
      "execution_count": null,
      "metadata": {},
      "outputs": [],
      "source": [
        "\n",
        "class Consumer(threading.Thread):\n",
        "    \"\"\"\n",
        "    Consumes random integers from a list\n",
        "    \"\"\"\n",
        "\n",
        "    def __init__(self, queue):\n",
        "        \"\"\"\n",
        "        Constructor.\n",
        "\n",
        "        @param integers list of integers\n",
        "        @param queue queue synchronization object\n",
        "        \"\"\"\n",
        "        threading.Thread.__init__(self)\n",
        "        self.queue = queue\n",
        "    \n",
        "    def run(self):\n",
        "        \"\"\"\n",
        "        Thread run method. Consumes integers from list\n",
        "        \"\"\"\n",
        "        while True:\n",
        "            integer = self.queue.get()\n",
        "            print ('%d popped from list by %s' % (integer, self.name))\n",
        "            self.queue.task_done()\n"
      ]
    },
    {
      "cell_type": "code",
      "execution_count": null,
      "metadata": {},
      "outputs": [],
      "source": [
        "\n",
        "def main():\n",
        "    integers = []\n",
        "    queue = Queue.Queue()\n",
        "    t1 = Producer(queue)\n",
        "    t2 = Consumer(queue)\n",
        "    t1.start()\n",
        "    t2.start()\n",
        "    t1.join()\n",
        "    t2.join()\n"
      ]
    },
    {
      "cell_type": "code",
      "execution_count": null,
      "metadata": {},
      "outputs": [],
      "source": [
        "\n",
        "if __name__ == '__main__':\n",
        "    main()\n",
        " \n"
      ]
    }
  ],
  "metadata": {
    "anaconda-cloud": {},
    "kernelspec": {
      "display_name": "Python 3.9.13 64-bit (microsoft store)",
      "language": "python",
      "name": "python3"
    },
    "language_info": {
      "codemirror_mode": {
        "name": "ipython",
        "version": 3
      },
      "file_extension": ".py",
      "mimetype": "text/x-python",
      "name": "python",
      "nbconvert_exporter": "python",
      "pygments_lexer": "ipython3",
      "version": "3.9.13"
    },
    "vscode": {
      "interpreter": {
        "hash": "8344beb2e3695cc865366b87c9e795fe295d5e1a75013da0c7029a373688a8d6"
      }
    }
  },
  "nbformat": 4,
  "nbformat_minor": 4
}

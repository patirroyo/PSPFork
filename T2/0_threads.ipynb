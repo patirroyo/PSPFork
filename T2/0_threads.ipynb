{
  "cells": [
    {
      "cell_type": "markdown",
      "metadata": {},
      "source": [
        "# Multithreading\n",
        "\n",
        "This is the idea behind parallel processing, or the ability to set up and run multiple tasks concurrently."
      ]
    },
    {
      "cell_type": "markdown",
      "metadata": {},
      "source": [
        "##  Threading \n",
        "\n",
        "\n",
        "#### I/O-intensive processes improved with multithreading:\n",
        "* webscraping\n",
        "* reading and writing to files\n",
        "* sharing data between programs\n",
        "* network communications"
      ]
    },
    {
      "cell_type": "markdown",
      "metadata": {},
      "source": [
        "## Multithreading Example: Webscraping\n",
        "\n",
        "Historically, the programming knowledge required to set up multithreading was beyond the scope of this course, as it involved a good understanding of Python's Global Interpreter Lock (the GIL prevents multiple threads from running the same Python code at once). Also, you had to set up special classes that behave like Producers to divvy up the work, Consumers (aka \"workers\") to perform the work, and a Queue to hold tasks and provide communcations. And that was just the beginning.\n",
        "\n",
        "Fortunately, we've already learned one of the most valuable tools we'll need – the `map()` function. When we apply it using two standard libraries, *multiprocessing* and *multiprocessing.dummy*, setting up parallel processes and threads becomes fairly straightforward."
      ]
    },
    {
      "cell_type": "markdown",
      "metadata": {},
      "source": [
        "Here's a classic multithreading example provided by [IBM](http://www.ibm.com/developerworks/aix/library/au-threadingpython/) and adapted by [Chris Kiehl](http://chriskiehl.com/article/parallelism-in-one-line/) where you divide the task of retrieving web pages across multiple threads:\n",
        "\n"
      ]
    },
    {
      "cell_type": "code",
      "execution_count": 12,
      "metadata": {},
      "outputs": [],
      "source": [
        "\n",
        "import time \n",
        "import threading \n",
        "import queue \n",
        "import urllib \n"
      ]
    },
    {
      "cell_type": "code",
      "execution_count": 13,
      "metadata": {},
      "outputs": [],
      "source": [
        "class Consumer(threading.Thread): \n",
        "  def __init__(self, queue): \n",
        "    threading.Thread.__init__(self)\n",
        "    self._queue = queue \n",
        "\n",
        "  def run(self):\n",
        "    while True: \n",
        "      content = self._queue.get() \n",
        "      if isinstance(content, str) and content == 'quit':\n",
        "        break\n",
        "      response = urllib.request.urlopen(content)\n",
        "    print(\"Thanks!\")\n",
        "\n",
        "\n",
        "\n",
        "def Producer():\n",
        "  urls = [\n",
        "    'http://www.python.org', 'http://www.yahoo.com'\n",
        "    'http://www.scala.org', 'http://www.google.com'\n",
        "    # etc.. \n",
        "  ]\n",
        "  _queue = queue.Queue()\n",
        "  worker_threads = build_worker_pool(_queue, 4) #devuelve 4 consumidores\n",
        "  start_time = time.time()\n",
        "\n",
        "  # Add the urls to process\n",
        "  for url in urls: \n",
        "    _queue.put(url)  \n",
        "  # Add the poison pill\n",
        "  for worker in worker_threads:\n",
        "    _queue.put('quit')\n",
        "  for worker in worker_threads:\n",
        "    worker.join()\n",
        "\n",
        "  print (\"Done! Time taken: {}\".format(time.time() - start_time))\n",
        "\n",
        "def build_worker_pool(queue, size):\n",
        "  workers = []\n",
        "  for _ in range(size):\n",
        "    worker = Consumer(queue)\n",
        "    worker.start() \n",
        "    workers.append(worker)\n",
        "  return workers\n"
      ]
    },
    {
      "cell_type": "code",
      "execution_count": 14,
      "metadata": {},
      "outputs": [
        {
          "name": "stderr",
          "output_type": "stream",
          "text": [
            "Exception in thread Thread-22:\n",
            "Traceback (most recent call last):\n",
            "  File \"/opt/homebrew/Cellar/python@3.11/3.11.6/Frameworks/Python.framework/Versions/3.11/lib/python3.11/urllib/request.py\", line 1348, in do_open\n",
            "    h.request(req.get_method(), req.selector, req.data, headers,\n",
            "  File \"/opt/homebrew/Cellar/python@3.11/3.11.6/Frameworks/Python.framework/Versions/3.11/lib/python3.11/http/client.py\", line 1286, in request\n",
            "    self._send_request(method, url, body, headers, encode_chunked)\n",
            "  File \"/opt/homebrew/Cellar/python@3.11/3.11.6/Frameworks/Python.framework/Versions/3.11/lib/python3.11/http/client.py\", line 1332, in _send_request\n",
            "    self.endheaders(body, encode_chunked=encode_chunked)\n",
            "  File \"/opt/homebrew/Cellar/python@3.11/3.11.6/Frameworks/Python.framework/Versions/3.11/lib/python3.11/http/client.py\", line 1281, in endheaders\n",
            "    self._send_output(message_body, encode_chunked=encode_chunked)\n",
            "  File \"/opt/homebrew/Cellar/python@3.11/3.11.6/Frameworks/Python.framework/Versions/3.11/lib/python3.11/http/client.py\", line 1041, in _send_output\n",
            "    self.send(msg)\n",
            "  File \"/opt/homebrew/Cellar/python@3.11/3.11.6/Frameworks/Python.framework/Versions/3.11/lib/python3.11/http/client.py\", line 979, in send\n",
            "    self.connect()\n",
            "  File \"/opt/homebrew/Cellar/python@3.11/3.11.6/Frameworks/Python.framework/Versions/3.11/lib/python3.11/http/client.py\", line 945, in connect\n",
            "    self.sock = self._create_connection(\n",
            "                ^^^^^^^^^^^^^^^^^^^^^^^^\n",
            "  File \"/opt/homebrew/Cellar/python@3.11/3.11.6/Frameworks/Python.framework/Versions/3.11/lib/python3.11/socket.py\", line 827, in create_connection\n",
            "    for res in getaddrinfo(host, port, 0, SOCK_STREAM):\n",
            "               ^^^^^^^^^^^^^^^^^^^^^^^^^^^^^^^^^^^^^^^\n",
            "  File \"/opt/homebrew/Cellar/python@3.11/3.11.6/Frameworks/Python.framework/Versions/3.11/lib/python3.11/socket.py\", line 962, in getaddrinfo\n",
            "    for res in _socket.getaddrinfo(host, port, family, type, proto, flags):\n",
            "               ^^^^^^^^^^^^^^^^^^^^^^^^^^^^^^^^^^^^^^^^^^^^^^^^^^^^^^^^^^^\n",
            "socket.gaierror: [Errno 8] nodename nor servname provided, or not known\n",
            "\n",
            "During handling of the above exception, another exception occurred:\n",
            "\n",
            "Traceback (most recent call last):\n",
            "  File \"/opt/homebrew/Cellar/python@3.11/3.11.6/Frameworks/Python.framework/Versions/3.11/lib/python3.11/threading.py\", line 1045, in _bootstrap_inner\n",
            "    self.run()\n",
            "  File \"/var/folders/rk/5jrmts713m7cnbllzs7nk4zr0000gn/T/ipykernel_99435/3694455507.py\", line 11, in run\n",
            "  File \"/opt/homebrew/Cellar/python@3.11/3.11.6/Frameworks/Python.framework/Versions/3.11/lib/python3.11/urllib/request.py\", line 216, in urlopen\n",
            "    return opener.open(url, data, timeout)\n",
            "           ^^^^^^^^^^^^^^^^^^^^^^^^^^^^^^^\n",
            "  File \"/opt/homebrew/Cellar/python@3.11/3.11.6/Frameworks/Python.framework/Versions/3.11/lib/python3.11/urllib/request.py\", line 519, in open\n",
            "    response = self._open(req, data)\n",
            "               ^^^^^^^^^^^^^^^^^^^^^\n",
            "  File \"/opt/homebrew/Cellar/python@3.11/3.11.6/Frameworks/Python.framework/Versions/3.11/lib/python3.11/urllib/request.py\", line 536, in _open\n",
            "    result = self._call_chain(self.handle_open, protocol, protocol +\n",
            "             ^^^^^^^^^^^^^^^^^^^^^^^^^^^^^^^^^^^^^^^^^^^^^^^^^^^^^^^\n",
            "  File \"/opt/homebrew/Cellar/python@3.11/3.11.6/Frameworks/Python.framework/Versions/3.11/lib/python3.11/urllib/request.py\", line 496, in _call_chain\n",
            "    result = func(*args)\n",
            "             ^^^^^^^^^^^\n",
            "  File \"/opt/homebrew/Cellar/python@3.11/3.11.6/Frameworks/Python.framework/Versions/3.11/lib/python3.11/urllib/request.py\", line 1377, in http_open\n",
            "    return self.do_open(http.client.HTTPConnection, req)\n",
            "           ^^^^^^^^^^^^^^^^^^^^^^^^^^^^^^^^^^^^^^^^^^^^^\n",
            "  File \"/opt/homebrew/Cellar/python@3.11/3.11.6/Frameworks/Python.framework/Versions/3.11/lib/python3.11/urllib/request.py\", line 1351, in do_open\n",
            "    raise URLError(err)\n",
            "urllib.error.URLError: <urlopen error [Errno 8] nodename nor servname provided, or not known>\n"
          ]
        },
        {
          "name": "stdout",
          "output_type": "stream",
          "text": [
            "Thanks!\n",
            "Thanks!\n",
            "Thanks!\n",
            "Done! Time taken: 0.4872400760650635\n"
          ]
        }
      ],
      "source": [
        "\n",
        "if __name__ == '__main__':\n",
        "  Producer()"
      ]
    }
  ],
  "metadata": {
    "anaconda-cloud": {},
    "kernelspec": {
      "display_name": "Python 3.10.6 64-bit",
      "language": "python",
      "name": "python3"
    },
    "language_info": {
      "codemirror_mode": {
        "name": "ipython",
        "version": 3
      },
      "file_extension": ".py",
      "mimetype": "text/x-python",
      "name": "python",
      "nbconvert_exporter": "python",
      "pygments_lexer": "ipython3",
      "version": "3.11.6"
    },
    "vscode": {
      "interpreter": {
        "hash": "916dbcbb3f70747c44a77c7bcd40155683ae19c65e1c03b4aa3499c5328201f1"
      }
    }
  },
  "nbformat": 4,
  "nbformat_minor": 4
}

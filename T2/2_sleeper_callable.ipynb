{
  "cells": [
    {
      "cell_type": "code",
      "execution_count": 1,
      "metadata": {},
      "outputs": [],
      "source": [
        "# -*- coding: utf-8 -*-\n",
        "\"\"\"\n",
        "A simple threading example. Create some threads by passing in a callable to the\n",
        "`threading.Thread` constructor, keep track of them and wait for them to join.\n",
        "\"\"\"\n",
        "\n",
        "import random\n",
        "import threading\n",
        "import time\n"
      ]
    },
    {
      "cell_type": "code",
      "execution_count": 2,
      "metadata": {},
      "outputs": [],
      "source": [
        "\n",
        "def sleeper():\n",
        "    time.sleep(random.randrange(1, 20))\n"
      ]
    },
    {
      "cell_type": "code",
      "execution_count": 3,
      "metadata": {},
      "outputs": [
        {
          "name": "stdout",
          "output_type": "stream",
          "text": [
            "Starting Thread 0\n",
            "Starting Thread 1\n",
            "Starting Thread 2\n",
            "Starting Thread 3\n",
            "Thread 0 Stopped\n",
            "Thread 1 Stopped\n",
            "Thread 2 Stopped\n",
            "Thread 3 Stopped\n"
          ]
        }
      ],
      "source": [
        "\n",
        "if __name__ == '__main__':\n",
        "    # create and start our threads\n",
        "    threads = list()\n",
        "    for i in range(4):\n",
        "        t = threading.Thread(target=sleeper) # pass in the callable\n",
        "        threads.append(t)\n",
        "        print('Starting Thread {}'.format(i))\n",
        "        t.start()\n",
        "\n",
        "    # wait for each to finish (join)\n",
        "    for i, t in enumerate(threads):\n",
        "        t.join()\n",
        "        print('Thread {} Stopped'.format(i))\n"
      ]
    }
  ],
  "metadata": {
    "anaconda-cloud": {},
    "kernelspec": {
      "display_name": "Python 3",
      "language": "python",
      "name": "python3"
    },
    "language_info": {
      "codemirror_mode": {
        "name": "ipython",
        "version": 3
      },
      "file_extension": ".py",
      "mimetype": "text/x-python",
      "name": "python",
      "nbconvert_exporter": "python",
      "pygments_lexer": "ipython3",
      "version": "3.11.6"
    }
  },
  "nbformat": 4,
  "nbformat_minor": 4
}

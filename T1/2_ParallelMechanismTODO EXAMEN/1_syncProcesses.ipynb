{
  "cells": [
    {
      "cell_type": "code",
      "execution_count": 22,
      "metadata": {},
      "outputs": [
        {
          "name": "stdout",
          "output_type": "stream",
          "text": [
            "hello world hello world"
          ]
        },
        {
          "name": "stdout",
          "output_type": "stream",
          "text": [
            "0 1\n",
            "\n",
            "hello world hello worldhello world 2\n",
            " 34\n",
            "hello world\n",
            " hello world5\n",
            " hello world 6\n",
            "7\n",
            "hello world 8"
          ]
        },
        {
          "name": "stdout",
          "output_type": "stream",
          "text": [
            "hello world\n",
            " 9\n"
          ]
        }
      ],
      "source": [
        "from multiprocessing import Process, Lock\n",
        "\n",
        "def f(lock, num):\n",
        "    lock.acquire()\n",
        "    # copyando del dispositivo a la memoria del proceso\n",
        "    print ('hello world', num)\n",
        "    lock.release()\n",
        "\n",
        "if __name__ == '__main__':\n",
        "    lock = Lock()\n",
        "\n",
        "    for num in range(10):\n",
        "        Process(target=f, args=(lock, num)).start()\n",
        "\n",
        "        #sin los lock sacaría algo asi hellheollo worworldld 3 0"
      ]
    }
  ],
  "metadata": {
    "anaconda-cloud": {},
    "kernelspec": {
      "display_name": "Python 3.10.6 64-bit",
      "language": "python",
      "name": "python3"
    },
    "language_info": {
      "codemirror_mode": {
        "name": "ipython",
        "version": 3
      },
      "file_extension": ".py",
      "mimetype": "text/x-python",
      "name": "python",
      "nbconvert_exporter": "python",
      "pygments_lexer": "ipython3",
      "version": "3.10.12"
    },
    "vscode": {
      "interpreter": {
        "hash": "916dbcbb3f70747c44a77c7bcd40155683ae19c65e1c03b4aa3499c5328201f1"
      }
    }
  },
  "nbformat": 4,
  "nbformat_minor": 4
}

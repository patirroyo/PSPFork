{
  "cells": [
    {
      "cell_type": "code",
      "execution_count": null,
      "metadata": {},
      "outputs": [],
      "source": [
        "from multiprocessing import Process, Lock\n",
        "\n",
        "def f(l, i):\n",
        "    l.acquire()\n",
        "    # copyando del dispositivo a la memoria del proceso\n",
        "    print ('hello world', i)\n",
        "    l.release()\n",
        "\n",
        "if __name__ == '__main__':\n",
        "    lock = Lock()\n",
        "\n",
        "    for num in range(10):\n",
        "        Process(target=f, args=(lock, num)).start()"
      ]
    }
  ],
  "metadata": {
    "anaconda-cloud": {},
    "kernelspec": {
      "display_name": "Python 3.10.6 64-bit",
      "language": "python",
      "name": "python3"
    },
    "language_info": {
      "codemirror_mode": {
        "name": "ipython",
        "version": 3
      },
      "file_extension": ".py",
      "mimetype": "text/x-python",
      "name": "python",
      "nbconvert_exporter": "python",
      "pygments_lexer": "ipython3",
      "version": "3.10.6"
    },
    "vscode": {
      "interpreter": {
        "hash": "916dbcbb3f70747c44a77c7bcd40155683ae19c65e1c03b4aa3499c5328201f1"
      }
    }
  },
  "nbformat": 4,
  "nbformat_minor": 4
}

{
  "cells": [
    {
      "cell_type": "code",
      "execution_count": 1,
      "metadata": {},
      "outputs": [],
      "source": [
        "import multiprocessing as mp\n",
        "import random\n",
        "import string\n"
      ]
    },
    {
      "cell_type": "code",
      "execution_count": 2,
      "metadata": {},
      "outputs": [
        {
          "name": "stdout",
          "output_type": "stream",
          "text": [
            "['pQ4sN', 'LUIyE', 'FLB1i', 'IYIJc']\n"
          ]
        }
      ],
      "source": [
        "\n",
        "random.seed(123)\n",
        "\n",
        "# Define an output queue\n",
        "output = mp.Queue()\n",
        "\n",
        "# define a example function\n",
        "def rand_string(length, output):\n",
        "    \"\"\" Generates a random string of numbers, lower- and uppercase chars. \"\"\"\n",
        "    rand_str = ''.join(random.choice(\n",
        "                        string.ascii_lowercase\n",
        "                        + string.ascii_uppercase\n",
        "                        + string.digits)\n",
        "                   for i in range(length))\n",
        "    output.put(rand_str)\n",
        "\n",
        "# Setup a list of processes that we want to run\n",
        "processes = [mp.Process(target=rand_string, args=(5, output)) for x in range(4)]\n",
        "\n",
        "# Run processes\n",
        "for p in processes:\n",
        "    p.start()\n",
        "\n",
        "# Exit the completed processes\n",
        "for p in processes:\n",
        "    p.join()\n",
        "\n",
        "# Get process results from the output queue\n",
        "results = [output.get() for p in processes]\n",
        "\n",
        "print(results)"
      ]
    }
  ],
  "metadata": {
    "anaconda-cloud": {},
    "kernelspec": {
      "display_name": "Python 3.10.4 64-bit",
      "language": "python",
      "name": "python3"
    },
    "language_info": {
      "codemirror_mode": {
        "name": "ipython",
        "version": 3
      },
      "file_extension": ".py",
      "mimetype": "text/x-python",
      "name": "python",
      "nbconvert_exporter": "python",
      "pygments_lexer": "ipython3",
      "version": "3.10.4"
    },
    "vscode": {
      "interpreter": {
        "hash": "3ad933181bd8a04b432d3370b9dc3b0662ad032c4dfaa4e4f1596c548f763858"
      }
    }
  },
  "nbformat": 4,
  "nbformat_minor": 4
}

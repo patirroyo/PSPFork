{
  "cells": [
    {
      "cell_type": "code",
      "execution_count": 1,
      "metadata": {},
      "outputs": [
        {
          "ename": "TypeError",
          "evalue": "'int' object is not iterable",
          "output_type": "error",
          "traceback": [
            "\u001b[0;31m---------------------------------------------------------------------------\u001b[0m",
            "\u001b[0;31mTypeError\u001b[0m                                 Traceback (most recent call last)",
            "Cell \u001b[0;32mIn [1], line 12\u001b[0m\n\u001b[1;32m      8\u001b[0m \u001b[39mif\u001b[39;00m \u001b[39m__name__\u001b[39m \u001b[39m==\u001b[39m \u001b[39m'\u001b[39m\u001b[39m__main__\u001b[39m\u001b[39m'\u001b[39m:\n\u001b[1;32m      9\u001b[0m     pool \u001b[39m=\u001b[39m Pool(processes\u001b[39m=\u001b[39m(os\u001b[39m.\u001b[39mcpu_count()\u001b[39m-\u001b[39m\u001b[39m1\u001b[39m))              \u001b[39m# start 4 worker processes\u001b[39;00m\n\u001b[0;32m---> 12\u001b[0m     \u001b[39mprint\u001b[39m(pool\u001b[39m.\u001b[39;49mmap(f, \u001b[39m20\u001b[39;49m))                          \n\u001b[1;32m     14\u001b[0m     \u001b[39m# print \"[0, 1, 4,..., 81]\"\u001b[39;00m\n\u001b[1;32m     15\u001b[0m     \u001b[39mprint\u001b[39m(pool\u001b[39m.\u001b[39mmap(f, \u001b[39mrange\u001b[39m(\u001b[39m10\u001b[39m)))\n",
            "File \u001b[0;32m/usr/lib/python3.10/multiprocessing/pool.py:367\u001b[0m, in \u001b[0;36mPool.map\u001b[0;34m(self, func, iterable, chunksize)\u001b[0m\n\u001b[1;32m    362\u001b[0m \u001b[39mdef\u001b[39;00m \u001b[39mmap\u001b[39m(\u001b[39mself\u001b[39m, func, iterable, chunksize\u001b[39m=\u001b[39m\u001b[39mNone\u001b[39;00m):\n\u001b[1;32m    363\u001b[0m     \u001b[39m'''\u001b[39;00m\n\u001b[1;32m    364\u001b[0m \u001b[39m    Apply `func` to each element in `iterable`, collecting the results\u001b[39;00m\n\u001b[1;32m    365\u001b[0m \u001b[39m    in a list that is returned.\u001b[39;00m\n\u001b[1;32m    366\u001b[0m \u001b[39m    '''\u001b[39;00m\n\u001b[0;32m--> 367\u001b[0m     \u001b[39mreturn\u001b[39;00m \u001b[39mself\u001b[39;49m\u001b[39m.\u001b[39;49m_map_async(func, iterable, mapstar, chunksize)\u001b[39m.\u001b[39mget()\n",
            "File \u001b[0;32m/usr/lib/python3.10/multiprocessing/pool.py:478\u001b[0m, in \u001b[0;36mPool._map_async\u001b[0;34m(self, func, iterable, mapper, chunksize, callback, error_callback)\u001b[0m\n\u001b[1;32m    476\u001b[0m \u001b[39mself\u001b[39m\u001b[39m.\u001b[39m_check_running()\n\u001b[1;32m    477\u001b[0m \u001b[39mif\u001b[39;00m \u001b[39mnot\u001b[39;00m \u001b[39mhasattr\u001b[39m(iterable, \u001b[39m'\u001b[39m\u001b[39m__len__\u001b[39m\u001b[39m'\u001b[39m):\n\u001b[0;32m--> 478\u001b[0m     iterable \u001b[39m=\u001b[39m \u001b[39mlist\u001b[39;49m(iterable)\n\u001b[1;32m    480\u001b[0m \u001b[39mif\u001b[39;00m chunksize \u001b[39mis\u001b[39;00m \u001b[39mNone\u001b[39;00m:\n\u001b[1;32m    481\u001b[0m     chunksize, extra \u001b[39m=\u001b[39m \u001b[39mdivmod\u001b[39m(\u001b[39mlen\u001b[39m(iterable), \u001b[39mlen\u001b[39m(\u001b[39mself\u001b[39m\u001b[39m.\u001b[39m_pool) \u001b[39m*\u001b[39m \u001b[39m4\u001b[39m)\n",
            "\u001b[0;31mTypeError\u001b[0m: 'int' object is not iterable"
          ]
        }
      ],
      "source": [
        "from multiprocessing import Pool, TimeoutError\n",
        "import time\n",
        "import os\n",
        "\n",
        "def f(x):\n",
        "    return x*x\n",
        "\n",
        "if __name__ == '__main__':\n",
        "    pool = Pool(processes=(os.cpu_count()-1))              # start 4 worker processes\n",
        "\n",
        "    \n",
        "    print(pool.map(f, 20))                          \n",
        "    \n",
        "    # print \"[0, 1, 4,..., 81]\"\n",
        "    print(pool.map(f, range(10)))\n",
        "\n",
        "    # print same numbers in arbitrary order\n",
        "    for i in pool.imap_unordered(f, range(10)):\n",
        "        print(i)\n",
        "\n",
        "    # evaluate \"f(20)\" asynchronously\n",
        "    res = pool.apply_async(f, (20,))      # runs in *only* one process\n",
        "    print(res.get(timeout=1))              # prints \"400\"\n",
        "\n",
        "    # evaluate \"os.getpid()\" asynchronously\n",
        "    res = pool.apply_async(os.getpid, ()) # runs in *only* one process\n",
        "    print(res.get(timeout=1))              # prints the PID of that process\n",
        "\n",
        "    # launching multiple evaluations asynchronously *may* use more processes\n",
        "    multiple_results = [pool.apply_async(os.getpid, ()) for i in range(4)]\n",
        "    print([res.get(timeout=1) for res in multiple_results])\n",
        "\n",
        "    # make a single worker sleep for 10 secs\n",
        "    res = pool.apply_async(time.sleep, (10,))\n",
        "    try:\n",
        "        print(res.get(timeout=1))\n",
        "    except TimeoutError:\n",
        "        print(\"We lacked patience and got a multiprocessing.TimeoutError\")"
      ]
    }
  ],
  "metadata": {
    "anaconda-cloud": {},
    "kernelspec": {
      "display_name": "Python 3.10.6 64-bit",
      "language": "python",
      "name": "python3"
    },
    "language_info": {
      "codemirror_mode": {
        "name": "ipython",
        "version": 3
      },
      "file_extension": ".py",
      "mimetype": "text/x-python",
      "name": "python",
      "nbconvert_exporter": "python",
      "pygments_lexer": "ipython3",
      "version": "3.10.6"
    },
    "vscode": {
      "interpreter": {
        "hash": "916dbcbb3f70747c44a77c7bcd40155683ae19c65e1c03b4aa3499c5328201f1"
      }
    }
  },
  "nbformat": 4,
  "nbformat_minor": 4
}

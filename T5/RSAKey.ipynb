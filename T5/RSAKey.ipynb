{
 "cells": [
  {
   "cell_type": "markdown",
   "metadata": {},
   "source": [
    "<h2>Generate an RSA key</h2>\n",
    "<p>The following code generates a new RSA key pair (secret) and saves it into a file, protected by a password. We use the scrypt key derivation function to thwart dictionary attacks. At the end, the code prints our the RSA public key in ASCII/PEM format:</p>"
   ]
  },
  {
   "cell_type": "code",
   "execution_count": 3,
   "metadata": {},
   "outputs": [
    {
     "name": "stdout",
     "output_type": "stream",
     "text": [
      "Defaulting to user installation because normal site-packages is not writeable\n",
      "Requirement already satisfied: pycryptodome in /home/alberto/.local/lib/python3.10/site-packages (3.20.0)\n",
      "b'-----BEGIN PUBLIC KEY-----\\nMIIBIjANBgkqhkiG9w0BAQEFAAOCAQ8AMIIBCgKCAQEAlzmgraqOhEbp+AlWRHts\\nVnSjyNHjM0ENXwAS3M0ASXE8ROOYIAeaVDvR7flDNwJdm2mAVpdIOKfPbIxPxjrm\\nldvtoNyo+cqeiAEYEa2U9bBZu4zOz0xr+tfBrnH+4B8AqJ7q66kZBc8ulWUh5gcK\\nI1h6xaWBvTkmLqDBijFddRfFKXCzjkVjaSKyCd/Be3bJuaKPXIyh1yRsjHDWV0la\\nBaZsfUeCn8/gBtL9VPRU0tUwQE//GEtGMZ3UyOwSAI8UCx1DLiS/b/1/ypVkMN1D\\nmoNvKd3kPMnH1g4bL/yjKkfzwL6AxfugYYip1lwcEoO6JOoNlMVt8GWHn9xUH3cn\\npwIDAQAB\\n-----END PUBLIC KEY-----'\n"
     ]
    }
   ],
   "source": [
    "!pip3 install pycryptodome\n",
    "\n",
    "from Crypto.PublicKey import RSA\n",
    "\n",
    "secret_code = \"Unguessable\"\n",
    "key = RSA.generate(2048)\n",
    "encrypted_key = key.export_key(passphrase=secret_code, pkcs=8,\n",
    "                              protection=\"scryptAndAES128-CBC\",\n",
    "                              prot_params={'iteration_count':131072})\n",
    "\n",
    "with open(\"rsa_key.bin\", \"wb\") as f:\n",
    "    f.write(encrypted_key)\n",
    "\n",
    "print(key.publickey().export_key())"
   ]
  },
  {
   "cell_type": "markdown",
   "metadata": {},
   "source": [
    "The following code reads the private RSA key back in, and then prints again the public key:\n",
    "\n"
   ]
  },
  {
   "cell_type": "code",
   "execution_count": 4,
   "metadata": {},
   "outputs": [
    {
     "name": "stdout",
     "output_type": "stream",
     "text": [
      "b'-----BEGIN PUBLIC KEY-----\\nMIIBIjANBgkqhkiG9w0BAQEFAAOCAQ8AMIIBCgKCAQEAlzmgraqOhEbp+AlWRHts\\nVnSjyNHjM0ENXwAS3M0ASXE8ROOYIAeaVDvR7flDNwJdm2mAVpdIOKfPbIxPxjrm\\nldvtoNyo+cqeiAEYEa2U9bBZu4zOz0xr+tfBrnH+4B8AqJ7q66kZBc8ulWUh5gcK\\nI1h6xaWBvTkmLqDBijFddRfFKXCzjkVjaSKyCd/Be3bJuaKPXIyh1yRsjHDWV0la\\nBaZsfUeCn8/gBtL9VPRU0tUwQE//GEtGMZ3UyOwSAI8UCx1DLiS/b/1/ypVkMN1D\\nmoNvKd3kPMnH1g4bL/yjKkfzwL6AxfugYYip1lwcEoO6JOoNlMVt8GWHn9xUH3cn\\npwIDAQAB\\n-----END PUBLIC KEY-----'\n"
     ]
    }
   ],
   "source": [
    "from Crypto.PublicKey import RSA\n",
    "\n",
    "secret_code = \"Unguessable\"\n",
    "encoded_key = open(\"rsa_key.bin\", \"rb\").read()\n",
    "key = RSA.import_key(encoded_key, passphrase=secret_code)\n",
    "\n",
    "print(key.publickey().export_key())"
   ]
  },
  {
   "cell_type": "markdown",
   "metadata": {},
   "source": [
    "<h2>Generate public key and private key</h2>\n",
    "The following code generates public key stored in receiver.pem and private key stored in private.pem. These files will be used in the examples below. Every time, it generates different public key and private key pair."
   ]
  },
  {
   "cell_type": "code",
   "execution_count": 1,
   "metadata": {},
   "outputs": [],
   "source": [
    "from Crypto.PublicKey import RSA\n",
    "\n",
    "key = RSA.generate(2048)\n",
    "private_key = key.export_key()\n",
    "with open(\"private.pem\", \"wb\") as f:\n",
    "    f.write(private_key)\n",
    "\n",
    "public_key = key.publickey().export_key()\n",
    "with open(\"public.pem\", \"wb\") as f:\n",
    "    f.write(public_key)"
   ]
  },
  {
   "cell_type": "markdown",
   "metadata": {},
   "source": [
    "Para cifrar usamos la clave pública"
   ]
  },
  {
   "cell_type": "code",
   "execution_count": null,
   "metadata": {},
   "outputs": [],
   "source": [
    "from Crypto.PublicKey import RSA\n",
    "from Crypto.PublicKey import RSA\n",
    "from Crypto.Random import get_random_bytes\n",
    "from Crypto.Cipher import AES, PKCS1_OAEP\n",
    "key = RSA.generate(2048)\n",
    "private_key = key.export_key()\n",
    "file_out = open(\"private.pem\", \"wb\")\n",
    "file_out.write(private_key)\n",
    "file_out.close()\n",
    "\n",
    "public_key = key.publickey().export_key()\n",
    "file_out = open(\"public.pem\", \"wb\")\n",
    "file_out.write(public_key)\n",
    "file_out.close()\n",
    "\n",
    "secret_code = \"\"\"\n",
    "smtp port:1025\n",
    "ftp port: 21\n",
    "ftp user: admin\n",
    "ftp password XXXXX\n",
    "sh port 2222\n",
    "ssh user linuxserver\n",
    "ssh password admin\n",
    "        \"\"\".encode(\"utf-8\")\n",
    "\n",
    "file_out = open(\"encrypted_data.bin\", \"wb\")\n",
    "\n",
    "recipient_key = RSA.import_key(open(\"public.pem\").read())\n",
    "session_key = get_random_bytes(16)\n",
    "\n",
    "# Encrypt the session key with the public RSA key\n",
    "cipher_rsa = PKCS1_OAEP.new(recipient_key)\n",
    "enc_session_key = cipher_rsa.encrypt(secret_code)\n",
    "\n",
    "file_out.write(enc_session_key)\n",
    "file_out.close()\n",
    "\n",
    "print(public_key)\n",
    "print(secret_code)\n",
    "\n",
    "print(private_key)"
   ]
  },
  {
   "cell_type": "markdown",
   "metadata": {},
   "source": [
    "Para descifrar el mensaje necesitaremos la clave privada, porque para cifrar usamos la publica"
   ]
  },
  {
   "cell_type": "code",
   "execution_count": 3,
   "metadata": {},
   "outputs": [
    {
     "name": "stdout",
     "output_type": "stream",
     "text": [
      "b'\\nsmtp port:1025\\nftp port: 21\\nftp user: admin\\nftp password XXXXX\\nsh port 2222\\nssh user linuxserver\\nssh password admin\\n        '\n"
     ]
    }
   ],
   "source": [
    "from Crypto.PublicKey import RSA\n",
    "from Crypto.Cipher import PKCS1_OAEP\n",
    "\n",
    "\n",
    "file_in = open(\"encrypted_data.bin\", \"rb\")\n",
    "private_key = RSA.import_key(open(\"private.pem\").read())\n",
    "\n",
    "enc_session_key = file_in.read(private_key.size_in_bytes())\n",
    "file_in.close()\n",
    "\n",
    "# Decrypt the session key with the private RSA key\n",
    "cipher_rsa = PKCS1_OAEP.new(private_key)\n",
    "session_key = cipher_rsa.decrypt(enc_session_key)\n",
    "print(session_key)"
   ]
  }
 ],
 "metadata": {
  "kernelspec": {
   "display_name": "Python 3",
   "language": "python",
   "name": "python3"
  },
  "language_info": {
   "codemirror_mode": {
    "name": "ipython",
    "version": 3
   },
   "file_extension": ".py",
   "mimetype": "text/x-python",
   "name": "python",
   "nbconvert_exporter": "python",
   "pygments_lexer": "ipython3",
   "version": "3.10.12"
  }
 },
 "nbformat": 4,
 "nbformat_minor": 2
}
